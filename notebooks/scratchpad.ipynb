{
 "cells": [
  {
   "cell_type": "code",
   "id": "initial_id",
   "metadata": {
    "collapsed": true,
    "ExecuteTime": {
     "end_time": "2025-02-04T19:35:08.605075Z",
     "start_time": "2025-02-04T19:35:08.596946Z"
    }
   },
   "source": [
    "from learning import exponential_linear_orig, compose_linear_perturb_reg, exponential_prox\n",
    "import numpy as np"
   ],
   "outputs": [],
   "execution_count": 3
  },
  {
   "metadata": {
    "ExecuteTime": {
     "end_time": "2025-02-04T19:35:09.284110Z",
     "start_time": "2025-02-04T19:35:09.279542Z"
    }
   },
   "cell_type": "code",
   "source": "exp_lin_prox_new = compose_linear_perturb_reg(exponential_prox)",
   "id": "12b92594416a0a0f",
   "outputs": [],
   "execution_count": 4
  },
  {
   "metadata": {
    "ExecuteTime": {
     "end_time": "2025-02-04T19:36:42.799109Z",
     "start_time": "2025-02-04T19:36:42.794981Z"
    }
   },
   "cell_type": "code",
   "source": [
    "x = np.random.randn(50)\n",
    "theta = np.random.randn(50)\n",
    "phi = np.zeros(50)\n",
    "b = 3\n",
    "alpha = 0\n",
    "eta = 2"
   ],
   "id": "7c6f77b30e03e7a9",
   "outputs": [],
   "execution_count": 9
  },
  {
   "metadata": {
    "ExecuteTime": {
     "end_time": "2025-02-04T19:36:43.276165Z",
     "start_time": "2025-02-04T19:36:43.269107Z"
    }
   },
   "cell_type": "code",
   "source": "exponential_linear_orig(x, eta, theta, phi, b, alpha)",
   "id": "86cc26f9256f49b4",
   "outputs": [
    {
     "data": {
      "text/plain": [
       "array([ 1.26462182,  0.45862897, -0.15459798,  0.29583861, -3.01470686,\n",
       "        0.5476738 , -1.43166275, -0.36005009,  0.83535983, -0.11099193,\n",
       "       -0.68892917, -1.92326435, -0.17293325, -1.22015571, -1.11502467,\n",
       "        0.08061317, -0.06307088,  0.41688332, -1.53792267,  0.39307954,\n",
       "        0.19816108, -0.85370478, -0.45894359, -0.09907563, -0.2025096 ,\n",
       "       -1.03334654, -1.07494484,  0.39634631,  1.01599969, -0.21200264,\n",
       "        0.97567829, -0.35543682,  0.17152595, -1.16821888,  1.58589952,\n",
       "       -0.96436962, -0.11855505,  1.04307396, -1.23755611,  0.47302339,\n",
       "        1.76769972,  1.00627303, -1.19915599, -0.57221124,  0.74147338,\n",
       "       -0.38505188, -0.31539388, -1.88029137,  0.08636229,  0.55896991])"
      ]
     },
     "execution_count": 10,
     "metadata": {},
     "output_type": "execute_result"
    }
   ],
   "execution_count": 10
  },
  {
   "metadata": {
    "ExecuteTime": {
     "end_time": "2025-02-04T19:36:44.593272Z",
     "start_time": "2025-02-04T19:36:44.579873Z"
    }
   },
   "cell_type": "code",
   "source": "exp_lin_prox_new(x, eta, theta, phi, b, alpha)",
   "id": "2a33d3dfaed20600",
   "outputs": [
    {
     "data": {
      "text/plain": [
       "array([ 1.25615068,  0.50555738, -0.05403195,  0.13507124, -3.1148102 ,\n",
       "        0.49822509, -1.3782962 , -0.39168743,  0.89903364, -0.13925895,\n",
       "       -0.75205083, -1.95192666, -0.36744157, -1.3391194 , -1.29243074,\n",
       "        0.01661384,  0.0405739 ,  0.31546464, -1.58809549,  0.3657011 ,\n",
       "        0.12346683, -1.19218269, -0.33711658, -0.13091265, -0.39475642,\n",
       "       -1.20127453, -1.43285224,  0.35356693,  1.07242813, -0.17616047,\n",
       "        0.97556465, -0.41866486,  0.28017342, -0.95549891,  1.58550917,\n",
       "       -0.87364157, -0.14010876,  0.92586334, -1.18438918,  0.52762913,\n",
       "        1.72677092,  1.37516521, -1.10550871, -0.60073072,  0.66740821,\n",
       "       -0.47491722, -0.29171593, -1.8562261 ,  0.19918835,  0.42182942])"
      ]
     },
     "execution_count": 11,
     "metadata": {},
     "output_type": "execute_result"
    }
   ],
   "execution_count": 11
  },
  {
   "metadata": {},
   "cell_type": "code",
   "outputs": [],
   "execution_count": null,
   "source": "",
   "id": "309598c2095f9319"
  }
 ],
 "metadata": {
  "kernelspec": {
   "display_name": "Python 3",
   "language": "python",
   "name": "python3"
  },
  "language_info": {
   "codemirror_mode": {
    "name": "ipython",
    "version": 2
   },
   "file_extension": ".py",
   "mimetype": "text/x-python",
   "name": "python",
   "nbconvert_exporter": "python",
   "pygments_lexer": "ipython2",
   "version": "2.7.6"
  }
 },
 "nbformat": 4,
 "nbformat_minor": 5
}
